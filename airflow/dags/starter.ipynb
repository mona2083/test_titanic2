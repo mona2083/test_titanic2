{
 "cells": [
  {
   "cell_type": "code",
   "execution_count": null,
   "metadata": {},
   "outputs": [],
   "source": [
    "import os\n",
    "import sys\n",
    "# import argparse\n",
    "# import pickle\n",
    "from pathlib import Path\n",
    "import mlflow\n",
    "import pandas as pd\n",
    "from airflow.decorators import dag\n",
    "from datetime import datetime\n",
    "\n",
    "# Add the parent directory to the Python path so we can import the modules\n",
    "# sys.path.append(str(Path(__file__).parent.parent.parent))\n",
    "# current_dir = Path(os.getcwd())\n",
    "# parent_dir = current_dir.parent.parent.parent\n",
    "sys.path.append(\"/src/main/python\")\n",
    "\n",
    "from titanic_preprocessing import TitanicPreprocessing\n",
    "from titanic_training import TitanicTraining\n",
    "from titanic_evaluation import TitanicEvaluation"
   ]
  },
  {
   "cell_type": "code",
   "execution_count": 45,
   "metadata": {},
   "outputs": [],
   "source": [
    "mlflow.set_tracking_uri(\"http://127.0.0.1:5000\")"
   ]
  },
  {
   "cell_type": "code",
   "execution_count": 46,
   "metadata": {},
   "outputs": [],
   "source": [
    "train_path = \"src/data/train.csv\"\n",
    "test_path = \"src/data/test.csv\""
   ]
  },
  {
   "cell_type": "code",
   "execution_count": 50,
   "metadata": {},
   "outputs": [],
   "source": [
    "@dag(\n",
    "    dag_id=\"titanic\",\n",
    "    default_args={\n",
    "        \"owner\": \"airflow\",\n",
    "        \"start_date\": datetime(2025, 3, 20),\n",
    "        \"retries\": 1,\n",
    "    },\n",
    "    schedule_interval='@once',\n",
    "    catchup=False,\n",
    "    tags=[\"titanic\"]\n",
    ")\n",
    "def titanic_dag():\n",
    "\n",
    "    # @task\n",
    "    # def preprocess_task():\n",
    "    #     preprocess = TitanicPreprocessing(train_data_path=train_path, test_data_path=test_path)\n",
    "    #     train_df, test_df = preprocess.preprocess_data()\n",
    "    #     return train_df, test_df\n",
    "    preprocess = TitanicPreprocessing(train_data_path=train_path, test_data_path=test_path)\n",
    "    datasets = preprocess.preprocess_data()\n",
    "    model_dict = TitanicTraining().train_model(datasets[0])\n",
    "    evaluate_dict = TitanicEvaluation('src/data/gender_submission.csv').evaluate_model(model_dict, datasets[1])\n",
    "    \n",
    "    @task\n",
    "    def log_mflow(model_dict, evaluate_dict):\n",
    "        mlflow.set_experiment(\"test\")\n",
    "        for model_name, eva in evaluate_dict.items():\n",
    "            with mlflow.start_run():\n",
    "                mdl = model_dict[model_name]\n",
    "                mlflow.log_model(\"model_name\", mdl)\n",
    "                mlflow.log_metric(\"accuracy\", eva)\n",
    "                print(f\"{model_name}: {eva}\")\n",
    "\n",
    "    logging = log_mflow(model_dict, evaluate_dict)\n",
    "    (\n",
    "        preprocess\n",
    "        >> datasets\n",
    "        >> model_dict\n",
    "        >> evaluate_dict\n",
    "        >> logging\n",
    "    )"
   ]
  },
  {
   "cell_type": "code",
   "execution_count": 51,
   "metadata": {},
   "outputs": [
    {
     "data": {
      "text/html": [
       "<pre style=\"white-space:pre;overflow-x:auto;line-height:normal;font-family:Menlo,'DejaVu Sans Mono',consolas,'Courier New',monospace\"><span style=\"color: #808000; text-decoration-color: #808000; font-weight: bold\">/var/folders/m_/z_1_g7ln0f54m3f57y9mjg440000gn/T/ipykernel_20457/2994855936.py:</span><span style=\"color: #808000; text-decoration-color: #808000; font-weight: bold\">1</span><span style=\"color: #808000; text-decoration-color: #808000; font-weight: bold\"> RemovedInAirflow3Warning</span><span style=\"color: #808000; text-decoration-color: #808000\">: Param `schedule_interval` is deprecated and will be removed in a future release. Please use `schedule` instead.</span>\n",
       "</pre>\n"
      ],
      "text/plain": [
       "\u001b[1;33m/var/folders/m_/z_1_g7ln0f54m3f57y9mjg440000gn/T/ipykernel_20457/\u001b[0m\u001b[1;33m2994855936.py\u001b[0m\u001b[1;33m:\u001b[0m\u001b[1;33m1\u001b[0m\u001b[1;33m RemovedInAirflow3Warning\u001b[0m\u001b[33m: Param `schedule_interval` is deprecated and will be removed in a future release. Please use `schedule` instead.\u001b[0m\n"
      ]
     },
     "metadata": {},
     "output_type": "display_data"
    },
    {
     "data": {
      "text/html": [
       "<pre style=\"white-space:pre;overflow-x:auto;line-height:normal;font-family:Menlo,'DejaVu Sans Mono',consolas,'Courier New',monospace\"><span style=\"color: #808000; text-decoration-color: #808000; font-weight: bold\">/Users/manamioyama/Desktop/workspace/GA/ml_playground/ml_playground_manami/d_shripad/src/main/python/titanic_preprocessing.py:</span><span style=\"color: #808000; text-decoration-color: #808000; font-weight: bold\">74</span><span style=\"color: #808000; text-decoration-color: #808000; font-weight: bold\"> FutureWarning</span><span style=\"color: #808000; text-decoration-color: #808000\">: A value is trying to be set on a copy of a DataFrame or Series through chained assignment using an inplace method.</span>\n",
       "<span style=\"color: #808000; text-decoration-color: #808000\">The behavior will change in pandas </span><span style=\"color: #808000; text-decoration-color: #808000; font-weight: bold\">3.0</span><span style=\"color: #808000; text-decoration-color: #808000\">. This inplace method will never work because the intermediate object on which we are setting values always behaves as a copy.</span>\n",
       "\n",
       "<span style=\"color: #808000; text-decoration-color: #808000\">For example, when doing </span><span style=\"color: #808000; text-decoration-color: #808000\">'df[col].method(value, inplace=True)'</span><span style=\"color: #808000; text-decoration-color: #808000\">, try using </span><span style=\"color: #808000; text-decoration-color: #808000\">'df.method({col: value}, inplace=True)'</span><span style=\"color: #808000; text-decoration-color: #808000\"> or df</span><span style=\"color: #808000; text-decoration-color: #808000; font-weight: bold\">[</span><span style=\"color: #808000; text-decoration-color: #808000\">col</span><span style=\"color: #808000; text-decoration-color: #808000; font-weight: bold\">]</span><span style=\"color: #808000; text-decoration-color: #808000\"> = df</span><span style=\"color: #808000; text-decoration-color: #808000; font-weight: bold\">[</span><span style=\"color: #808000; text-decoration-color: #808000\">col</span><span style=\"color: #808000; text-decoration-color: #808000; font-weight: bold\">].method(</span><span style=\"color: #808000; text-decoration-color: #808000\">value</span><span style=\"color: #808000; text-decoration-color: #808000; font-weight: bold\">)</span><span style=\"color: #808000; text-decoration-color: #808000\"> instead, to perform the operation inplace on the original object.</span>\n",
       "\n",
       "\n",
       "</pre>\n"
      ],
      "text/plain": [
       "\u001b[1;33m/Users/manamioyama/Desktop/workspace/GA/ml_playground/ml_playground_manami/d_shripad/src/main/python/\u001b[0m\u001b[1;33mtitanic_preprocessing.py\u001b[0m\u001b[1;33m:\u001b[0m\u001b[1;33m74\u001b[0m\u001b[1;33m FutureWarning\u001b[0m\u001b[33m: A value is trying to be set on a copy of a DataFrame or Series through chained assignment using an inplace method.\u001b[0m\n",
       "\u001b[33mThe behavior will change in pandas \u001b[0m\u001b[1;33m3.0\u001b[0m\u001b[33m. This inplace method will never work because the intermediate object on which we are setting values always behaves as a copy.\u001b[0m\n",
       "\n",
       "\u001b[33mFor example, when doing \u001b[0m\u001b[33m'df\u001b[0m\u001b[33m[\u001b[0m\u001b[33mcol\u001b[0m\u001b[33m]\u001b[0m\u001b[33m.method\u001b[0m\u001b[33m(\u001b[0m\u001b[33mvalue, \u001b[0m\u001b[33minplace\u001b[0m\u001b[33m=\u001b[0m\u001b[33mTrue\u001b[0m\u001b[33m)\u001b[0m\u001b[33m'\u001b[0m\u001b[33m, try using \u001b[0m\u001b[33m'df.method\u001b[0m\u001b[33m(\u001b[0m\u001b[33m{\u001b[0m\u001b[33mcol: value\u001b[0m\u001b[33m}\u001b[0m\u001b[33m, \u001b[0m\u001b[33minplace\u001b[0m\u001b[33m=\u001b[0m\u001b[33mTrue\u001b[0m\u001b[33m)\u001b[0m\u001b[33m'\u001b[0m\u001b[33m or df\u001b[0m\u001b[1;33m[\u001b[0m\u001b[33mcol\u001b[0m\u001b[1;33m]\u001b[0m\u001b[33m = df\u001b[0m\u001b[1;33m[\u001b[0m\u001b[33mcol\u001b[0m\u001b[1;33m]\u001b[0m\u001b[1;33m.method\u001b[0m\u001b[1;33m(\u001b[0m\u001b[33mvalue\u001b[0m\u001b[1;33m)\u001b[0m\u001b[33m instead, to perform the operation inplace on the original object.\u001b[0m\n",
       "\n",
       "\n"
      ]
     },
     "metadata": {},
     "output_type": "display_data"
    },
    {
     "data": {
      "text/html": [
       "<pre style=\"white-space:pre;overflow-x:auto;line-height:normal;font-family:Menlo,'DejaVu Sans Mono',consolas,'Courier New',monospace\"><span style=\"color: #808000; text-decoration-color: #808000; font-weight: bold\">/Users/manamioyama/Desktop/workspace/GA/ml_playground/ml_playground_manami/d_shripad/src/main/python/titanic_preprocessing.py:</span><span style=\"color: #808000; text-decoration-color: #808000; font-weight: bold\">77</span><span style=\"color: #808000; text-decoration-color: #808000; font-weight: bold\"> FutureWarning</span><span style=\"color: #808000; text-decoration-color: #808000\">: A value is trying to be set on a copy of a DataFrame or Series through chained assignment using an inplace method.</span>\n",
       "<span style=\"color: #808000; text-decoration-color: #808000\">The behavior will change in pandas </span><span style=\"color: #808000; text-decoration-color: #808000; font-weight: bold\">3.0</span><span style=\"color: #808000; text-decoration-color: #808000\">. This inplace method will never work because the intermediate object on which we are setting values always behaves as a copy.</span>\n",
       "\n",
       "<span style=\"color: #808000; text-decoration-color: #808000\">For example, when doing </span><span style=\"color: #808000; text-decoration-color: #808000\">'df[col].method(value, inplace=True)'</span><span style=\"color: #808000; text-decoration-color: #808000\">, try using </span><span style=\"color: #808000; text-decoration-color: #808000\">'df.method({col: value}, inplace=True)'</span><span style=\"color: #808000; text-decoration-color: #808000\"> or df</span><span style=\"color: #808000; text-decoration-color: #808000; font-weight: bold\">[</span><span style=\"color: #808000; text-decoration-color: #808000\">col</span><span style=\"color: #808000; text-decoration-color: #808000; font-weight: bold\">]</span><span style=\"color: #808000; text-decoration-color: #808000\"> = df</span><span style=\"color: #808000; text-decoration-color: #808000; font-weight: bold\">[</span><span style=\"color: #808000; text-decoration-color: #808000\">col</span><span style=\"color: #808000; text-decoration-color: #808000; font-weight: bold\">].method(</span><span style=\"color: #808000; text-decoration-color: #808000\">value</span><span style=\"color: #808000; text-decoration-color: #808000; font-weight: bold\">)</span><span style=\"color: #808000; text-decoration-color: #808000\"> instead, to perform the operation inplace on the original object.</span>\n",
       "\n",
       "\n",
       "</pre>\n"
      ],
      "text/plain": [
       "\u001b[1;33m/Users/manamioyama/Desktop/workspace/GA/ml_playground/ml_playground_manami/d_shripad/src/main/python/\u001b[0m\u001b[1;33mtitanic_preprocessing.py\u001b[0m\u001b[1;33m:\u001b[0m\u001b[1;33m77\u001b[0m\u001b[1;33m FutureWarning\u001b[0m\u001b[33m: A value is trying to be set on a copy of a DataFrame or Series through chained assignment using an inplace method.\u001b[0m\n",
       "\u001b[33mThe behavior will change in pandas \u001b[0m\u001b[1;33m3.0\u001b[0m\u001b[33m. This inplace method will never work because the intermediate object on which we are setting values always behaves as a copy.\u001b[0m\n",
       "\n",
       "\u001b[33mFor example, when doing \u001b[0m\u001b[33m'df\u001b[0m\u001b[33m[\u001b[0m\u001b[33mcol\u001b[0m\u001b[33m]\u001b[0m\u001b[33m.method\u001b[0m\u001b[33m(\u001b[0m\u001b[33mvalue, \u001b[0m\u001b[33minplace\u001b[0m\u001b[33m=\u001b[0m\u001b[33mTrue\u001b[0m\u001b[33m)\u001b[0m\u001b[33m'\u001b[0m\u001b[33m, try using \u001b[0m\u001b[33m'df.method\u001b[0m\u001b[33m(\u001b[0m\u001b[33m{\u001b[0m\u001b[33mcol: value\u001b[0m\u001b[33m}\u001b[0m\u001b[33m, \u001b[0m\u001b[33minplace\u001b[0m\u001b[33m=\u001b[0m\u001b[33mTrue\u001b[0m\u001b[33m)\u001b[0m\u001b[33m'\u001b[0m\u001b[33m or df\u001b[0m\u001b[1;33m[\u001b[0m\u001b[33mcol\u001b[0m\u001b[1;33m]\u001b[0m\u001b[33m = df\u001b[0m\u001b[1;33m[\u001b[0m\u001b[33mcol\u001b[0m\u001b[1;33m]\u001b[0m\u001b[1;33m.method\u001b[0m\u001b[1;33m(\u001b[0m\u001b[33mvalue\u001b[0m\u001b[1;33m)\u001b[0m\u001b[33m instead, to perform the operation inplace on the original object.\u001b[0m\n",
       "\n",
       "\n"
      ]
     },
     "metadata": {},
     "output_type": "display_data"
    },
    {
     "data": {
      "text/html": [
       "<pre style=\"white-space:pre;overflow-x:auto;line-height:normal;font-family:Menlo,'DejaVu Sans Mono',consolas,'Courier New',monospace\"><span style=\"color: #808000; text-decoration-color: #808000; font-weight: bold\">/Users/manamioyama/Desktop/workspace/GA/ml_playground/ml_playground_manami/d_shripad/src/main/python/titanic_preprocessing.py:</span><span style=\"color: #808000; text-decoration-color: #808000; font-weight: bold\">98</span><span style=\"color: #808000; text-decoration-color: #808000; font-weight: bold\"> FutureWarning</span><span style=\"color: #808000; text-decoration-color: #808000\">: A value is trying to be set on a copy of a DataFrame or Series through chained assignment using an inplace method.</span>\n",
       "<span style=\"color: #808000; text-decoration-color: #808000\">The behavior will change in pandas </span><span style=\"color: #808000; text-decoration-color: #808000; font-weight: bold\">3.0</span><span style=\"color: #808000; text-decoration-color: #808000\">. This inplace method will never work because the intermediate object on which we are setting values always behaves as a copy.</span>\n",
       "\n",
       "<span style=\"color: #808000; text-decoration-color: #808000\">For example, when doing </span><span style=\"color: #808000; text-decoration-color: #808000\">'df[col].method(value, inplace=True)'</span><span style=\"color: #808000; text-decoration-color: #808000\">, try using </span><span style=\"color: #808000; text-decoration-color: #808000\">'df.method({col: value}, inplace=True)'</span><span style=\"color: #808000; text-decoration-color: #808000\"> or df</span><span style=\"color: #808000; text-decoration-color: #808000; font-weight: bold\">[</span><span style=\"color: #808000; text-decoration-color: #808000\">col</span><span style=\"color: #808000; text-decoration-color: #808000; font-weight: bold\">]</span><span style=\"color: #808000; text-decoration-color: #808000\"> = df</span><span style=\"color: #808000; text-decoration-color: #808000; font-weight: bold\">[</span><span style=\"color: #808000; text-decoration-color: #808000\">col</span><span style=\"color: #808000; text-decoration-color: #808000; font-weight: bold\">].method(</span><span style=\"color: #808000; text-decoration-color: #808000\">value</span><span style=\"color: #808000; text-decoration-color: #808000; font-weight: bold\">)</span><span style=\"color: #808000; text-decoration-color: #808000\"> instead, to perform the operation inplace on the original object.</span>\n",
       "\n",
       "\n",
       "</pre>\n"
      ],
      "text/plain": [
       "\u001b[1;33m/Users/manamioyama/Desktop/workspace/GA/ml_playground/ml_playground_manami/d_shripad/src/main/python/\u001b[0m\u001b[1;33mtitanic_preprocessing.py\u001b[0m\u001b[1;33m:\u001b[0m\u001b[1;33m98\u001b[0m\u001b[1;33m FutureWarning\u001b[0m\u001b[33m: A value is trying to be set on a copy of a DataFrame or Series through chained assignment using an inplace method.\u001b[0m\n",
       "\u001b[33mThe behavior will change in pandas \u001b[0m\u001b[1;33m3.0\u001b[0m\u001b[33m. This inplace method will never work because the intermediate object on which we are setting values always behaves as a copy.\u001b[0m\n",
       "\n",
       "\u001b[33mFor example, when doing \u001b[0m\u001b[33m'df\u001b[0m\u001b[33m[\u001b[0m\u001b[33mcol\u001b[0m\u001b[33m]\u001b[0m\u001b[33m.method\u001b[0m\u001b[33m(\u001b[0m\u001b[33mvalue, \u001b[0m\u001b[33minplace\u001b[0m\u001b[33m=\u001b[0m\u001b[33mTrue\u001b[0m\u001b[33m)\u001b[0m\u001b[33m'\u001b[0m\u001b[33m, try using \u001b[0m\u001b[33m'df.method\u001b[0m\u001b[33m(\u001b[0m\u001b[33m{\u001b[0m\u001b[33mcol: value\u001b[0m\u001b[33m}\u001b[0m\u001b[33m, \u001b[0m\u001b[33minplace\u001b[0m\u001b[33m=\u001b[0m\u001b[33mTrue\u001b[0m\u001b[33m)\u001b[0m\u001b[33m'\u001b[0m\u001b[33m or df\u001b[0m\u001b[1;33m[\u001b[0m\u001b[33mcol\u001b[0m\u001b[1;33m]\u001b[0m\u001b[33m = df\u001b[0m\u001b[1;33m[\u001b[0m\u001b[33mcol\u001b[0m\u001b[1;33m]\u001b[0m\u001b[1;33m.method\u001b[0m\u001b[1;33m(\u001b[0m\u001b[33mvalue\u001b[0m\u001b[1;33m)\u001b[0m\u001b[33m instead, to perform the operation inplace on the original object.\u001b[0m\n",
       "\n",
       "\n"
      ]
     },
     "metadata": {},
     "output_type": "display_data"
    },
    {
     "data": {
      "text/html": [
       "<pre style=\"white-space:pre;overflow-x:auto;line-height:normal;font-family:Menlo,'DejaVu Sans Mono',consolas,'Courier New',monospace\"><span style=\"color: #808000; text-decoration-color: #808000; font-weight: bold\">/Users/manamioyama/Desktop/workspace/GA/ml_playground/ml_playground_manami/d_shripad/src/main/python/titanic_preprocessing.py:</span><span style=\"color: #808000; text-decoration-color: #808000; font-weight: bold\">101</span><span style=\"color: #808000; text-decoration-color: #808000; font-weight: bold\"> FutureWarning</span><span style=\"color: #808000; text-decoration-color: #808000\">: A value is trying to be set on a copy of a DataFrame or Series through chained assignment using an inplace method.</span>\n",
       "<span style=\"color: #808000; text-decoration-color: #808000\">The behavior will change in pandas </span><span style=\"color: #808000; text-decoration-color: #808000; font-weight: bold\">3.0</span><span style=\"color: #808000; text-decoration-color: #808000\">. This inplace method will never work because the intermediate object on which we are setting values always behaves as a copy.</span>\n",
       "\n",
       "<span style=\"color: #808000; text-decoration-color: #808000\">For example, when doing </span><span style=\"color: #808000; text-decoration-color: #808000\">'df[col].method(value, inplace=True)'</span><span style=\"color: #808000; text-decoration-color: #808000\">, try using </span><span style=\"color: #808000; text-decoration-color: #808000\">'df.method({col: value}, inplace=True)'</span><span style=\"color: #808000; text-decoration-color: #808000\"> or df</span><span style=\"color: #808000; text-decoration-color: #808000; font-weight: bold\">[</span><span style=\"color: #808000; text-decoration-color: #808000\">col</span><span style=\"color: #808000; text-decoration-color: #808000; font-weight: bold\">]</span><span style=\"color: #808000; text-decoration-color: #808000\"> = df</span><span style=\"color: #808000; text-decoration-color: #808000; font-weight: bold\">[</span><span style=\"color: #808000; text-decoration-color: #808000\">col</span><span style=\"color: #808000; text-decoration-color: #808000; font-weight: bold\">].method(</span><span style=\"color: #808000; text-decoration-color: #808000\">value</span><span style=\"color: #808000; text-decoration-color: #808000; font-weight: bold\">)</span><span style=\"color: #808000; text-decoration-color: #808000\"> instead, to perform the operation inplace on the original object.</span>\n",
       "\n",
       "\n",
       "</pre>\n"
      ],
      "text/plain": [
       "\u001b[1;33m/Users/manamioyama/Desktop/workspace/GA/ml_playground/ml_playground_manami/d_shripad/src/main/python/\u001b[0m\u001b[1;33mtitanic_preprocessing.py\u001b[0m\u001b[1;33m:\u001b[0m\u001b[1;33m101\u001b[0m\u001b[1;33m FutureWarning\u001b[0m\u001b[33m: A value is trying to be set on a copy of a DataFrame or Series through chained assignment using an inplace method.\u001b[0m\n",
       "\u001b[33mThe behavior will change in pandas \u001b[0m\u001b[1;33m3.0\u001b[0m\u001b[33m. This inplace method will never work because the intermediate object on which we are setting values always behaves as a copy.\u001b[0m\n",
       "\n",
       "\u001b[33mFor example, when doing \u001b[0m\u001b[33m'df\u001b[0m\u001b[33m[\u001b[0m\u001b[33mcol\u001b[0m\u001b[33m]\u001b[0m\u001b[33m.method\u001b[0m\u001b[33m(\u001b[0m\u001b[33mvalue, \u001b[0m\u001b[33minplace\u001b[0m\u001b[33m=\u001b[0m\u001b[33mTrue\u001b[0m\u001b[33m)\u001b[0m\u001b[33m'\u001b[0m\u001b[33m, try using \u001b[0m\u001b[33m'df.method\u001b[0m\u001b[33m(\u001b[0m\u001b[33m{\u001b[0m\u001b[33mcol: value\u001b[0m\u001b[33m}\u001b[0m\u001b[33m, \u001b[0m\u001b[33minplace\u001b[0m\u001b[33m=\u001b[0m\u001b[33mTrue\u001b[0m\u001b[33m)\u001b[0m\u001b[33m'\u001b[0m\u001b[33m or df\u001b[0m\u001b[1;33m[\u001b[0m\u001b[33mcol\u001b[0m\u001b[1;33m]\u001b[0m\u001b[33m = df\u001b[0m\u001b[1;33m[\u001b[0m\u001b[33mcol\u001b[0m\u001b[1;33m]\u001b[0m\u001b[1;33m.method\u001b[0m\u001b[1;33m(\u001b[0m\u001b[33mvalue\u001b[0m\u001b[1;33m)\u001b[0m\u001b[33m instead, to perform the operation inplace on the original object.\u001b[0m\n",
       "\n",
       "\n"
      ]
     },
     "metadata": {},
     "output_type": "display_data"
    },
    {
     "data": {
      "text/html": [
       "<pre style=\"white-space:pre;overflow-x:auto;line-height:normal;font-family:Menlo,'DejaVu Sans Mono',consolas,'Courier New',monospace\"><span style=\"color: #808000; text-decoration-color: #808000; font-weight: bold\">/Users/manamioyama/Desktop/workspace/GA/ml_playground/ml_playground_manami/d_shripad/src/main/python/titanic_preprocessing.py:</span><span style=\"color: #808000; text-decoration-color: #808000; font-weight: bold\">127</span><span style=\"color: #808000; text-decoration-color: #808000; font-weight: bold\"> FutureWarning</span><span style=\"color: #808000; text-decoration-color: #808000\">: A value is trying to be set on a copy of a DataFrame or Series through chained assignment using an inplace method.</span>\n",
       "<span style=\"color: #808000; text-decoration-color: #808000\">The behavior will change in pandas </span><span style=\"color: #808000; text-decoration-color: #808000; font-weight: bold\">3.0</span><span style=\"color: #808000; text-decoration-color: #808000\">. This inplace method will never work because the intermediate object on which we are setting values always behaves as a copy.</span>\n",
       "\n",
       "<span style=\"color: #808000; text-decoration-color: #808000\">For example, when doing </span><span style=\"color: #808000; text-decoration-color: #808000\">'df[col].method(value, inplace=True)'</span><span style=\"color: #808000; text-decoration-color: #808000\">, try using </span><span style=\"color: #808000; text-decoration-color: #808000\">'df.method({col: value}, inplace=True)'</span><span style=\"color: #808000; text-decoration-color: #808000\"> or df</span><span style=\"color: #808000; text-decoration-color: #808000; font-weight: bold\">[</span><span style=\"color: #808000; text-decoration-color: #808000\">col</span><span style=\"color: #808000; text-decoration-color: #808000; font-weight: bold\">]</span><span style=\"color: #808000; text-decoration-color: #808000\"> = df</span><span style=\"color: #808000; text-decoration-color: #808000; font-weight: bold\">[</span><span style=\"color: #808000; text-decoration-color: #808000\">col</span><span style=\"color: #808000; text-decoration-color: #808000; font-weight: bold\">].method(</span><span style=\"color: #808000; text-decoration-color: #808000\">value</span><span style=\"color: #808000; text-decoration-color: #808000; font-weight: bold\">)</span><span style=\"color: #808000; text-decoration-color: #808000\"> instead, to perform the operation inplace on the original object.</span>\n",
       "\n",
       "\n",
       "</pre>\n"
      ],
      "text/plain": [
       "\u001b[1;33m/Users/manamioyama/Desktop/workspace/GA/ml_playground/ml_playground_manami/d_shripad/src/main/python/\u001b[0m\u001b[1;33mtitanic_preprocessing.py\u001b[0m\u001b[1;33m:\u001b[0m\u001b[1;33m127\u001b[0m\u001b[1;33m FutureWarning\u001b[0m\u001b[33m: A value is trying to be set on a copy of a DataFrame or Series through chained assignment using an inplace method.\u001b[0m\n",
       "\u001b[33mThe behavior will change in pandas \u001b[0m\u001b[1;33m3.0\u001b[0m\u001b[33m. This inplace method will never work because the intermediate object on which we are setting values always behaves as a copy.\u001b[0m\n",
       "\n",
       "\u001b[33mFor example, when doing \u001b[0m\u001b[33m'df\u001b[0m\u001b[33m[\u001b[0m\u001b[33mcol\u001b[0m\u001b[33m]\u001b[0m\u001b[33m.method\u001b[0m\u001b[33m(\u001b[0m\u001b[33mvalue, \u001b[0m\u001b[33minplace\u001b[0m\u001b[33m=\u001b[0m\u001b[33mTrue\u001b[0m\u001b[33m)\u001b[0m\u001b[33m'\u001b[0m\u001b[33m, try using \u001b[0m\u001b[33m'df.method\u001b[0m\u001b[33m(\u001b[0m\u001b[33m{\u001b[0m\u001b[33mcol: value\u001b[0m\u001b[33m}\u001b[0m\u001b[33m, \u001b[0m\u001b[33minplace\u001b[0m\u001b[33m=\u001b[0m\u001b[33mTrue\u001b[0m\u001b[33m)\u001b[0m\u001b[33m'\u001b[0m\u001b[33m or df\u001b[0m\u001b[1;33m[\u001b[0m\u001b[33mcol\u001b[0m\u001b[1;33m]\u001b[0m\u001b[33m = df\u001b[0m\u001b[1;33m[\u001b[0m\u001b[33mcol\u001b[0m\u001b[1;33m]\u001b[0m\u001b[1;33m.method\u001b[0m\u001b[1;33m(\u001b[0m\u001b[33mvalue\u001b[0m\u001b[1;33m)\u001b[0m\u001b[33m instead, to perform the operation inplace on the original object.\u001b[0m\n",
       "\n",
       "\n"
      ]
     },
     "metadata": {},
     "output_type": "display_data"
    },
    {
     "data": {
      "text/html": [
       "<pre style=\"white-space:pre;overflow-x:auto;line-height:normal;font-family:Menlo,'DejaVu Sans Mono',consolas,'Courier New',monospace\"><span style=\"color: #808000; text-decoration-color: #808000; font-weight: bold\">/Users/manamioyama/Desktop/workspace/GA/ml_playground/ml_playground_manami/d_shripad/src/main/python/titanic_preprocessing.py:</span><span style=\"color: #808000; text-decoration-color: #808000; font-weight: bold\">130</span><span style=\"color: #808000; text-decoration-color: #808000; font-weight: bold\"> FutureWarning</span><span style=\"color: #808000; text-decoration-color: #808000\">: A value is trying to be set on a copy of a DataFrame or Series through chained assignment using an inplace method.</span>\n",
       "<span style=\"color: #808000; text-decoration-color: #808000\">The behavior will change in pandas </span><span style=\"color: #808000; text-decoration-color: #808000; font-weight: bold\">3.0</span><span style=\"color: #808000; text-decoration-color: #808000\">. This inplace method will never work because the intermediate object on which we are setting values always behaves as a copy.</span>\n",
       "\n",
       "<span style=\"color: #808000; text-decoration-color: #808000\">For example, when doing </span><span style=\"color: #808000; text-decoration-color: #808000\">'df[col].method(value, inplace=True)'</span><span style=\"color: #808000; text-decoration-color: #808000\">, try using </span><span style=\"color: #808000; text-decoration-color: #808000\">'df.method({col: value}, inplace=True)'</span><span style=\"color: #808000; text-decoration-color: #808000\"> or df</span><span style=\"color: #808000; text-decoration-color: #808000; font-weight: bold\">[</span><span style=\"color: #808000; text-decoration-color: #808000\">col</span><span style=\"color: #808000; text-decoration-color: #808000; font-weight: bold\">]</span><span style=\"color: #808000; text-decoration-color: #808000\"> = df</span><span style=\"color: #808000; text-decoration-color: #808000; font-weight: bold\">[</span><span style=\"color: #808000; text-decoration-color: #808000\">col</span><span style=\"color: #808000; text-decoration-color: #808000; font-weight: bold\">].method(</span><span style=\"color: #808000; text-decoration-color: #808000\">value</span><span style=\"color: #808000; text-decoration-color: #808000; font-weight: bold\">)</span><span style=\"color: #808000; text-decoration-color: #808000\"> instead, to perform the operation inplace on the original object.</span>\n",
       "\n",
       "\n",
       "</pre>\n"
      ],
      "text/plain": [
       "\u001b[1;33m/Users/manamioyama/Desktop/workspace/GA/ml_playground/ml_playground_manami/d_shripad/src/main/python/\u001b[0m\u001b[1;33mtitanic_preprocessing.py\u001b[0m\u001b[1;33m:\u001b[0m\u001b[1;33m130\u001b[0m\u001b[1;33m FutureWarning\u001b[0m\u001b[33m: A value is trying to be set on a copy of a DataFrame or Series through chained assignment using an inplace method.\u001b[0m\n",
       "\u001b[33mThe behavior will change in pandas \u001b[0m\u001b[1;33m3.0\u001b[0m\u001b[33m. This inplace method will never work because the intermediate object on which we are setting values always behaves as a copy.\u001b[0m\n",
       "\n",
       "\u001b[33mFor example, when doing \u001b[0m\u001b[33m'df\u001b[0m\u001b[33m[\u001b[0m\u001b[33mcol\u001b[0m\u001b[33m]\u001b[0m\u001b[33m.method\u001b[0m\u001b[33m(\u001b[0m\u001b[33mvalue, \u001b[0m\u001b[33minplace\u001b[0m\u001b[33m=\u001b[0m\u001b[33mTrue\u001b[0m\u001b[33m)\u001b[0m\u001b[33m'\u001b[0m\u001b[33m, try using \u001b[0m\u001b[33m'df.method\u001b[0m\u001b[33m(\u001b[0m\u001b[33m{\u001b[0m\u001b[33mcol: value\u001b[0m\u001b[33m}\u001b[0m\u001b[33m, \u001b[0m\u001b[33minplace\u001b[0m\u001b[33m=\u001b[0m\u001b[33mTrue\u001b[0m\u001b[33m)\u001b[0m\u001b[33m'\u001b[0m\u001b[33m or df\u001b[0m\u001b[1;33m[\u001b[0m\u001b[33mcol\u001b[0m\u001b[1;33m]\u001b[0m\u001b[33m = df\u001b[0m\u001b[1;33m[\u001b[0m\u001b[33mcol\u001b[0m\u001b[1;33m]\u001b[0m\u001b[1;33m.method\u001b[0m\u001b[1;33m(\u001b[0m\u001b[33mvalue\u001b[0m\u001b[1;33m)\u001b[0m\u001b[33m instead, to perform the operation inplace on the original object.\u001b[0m\n",
       "\n",
       "\n"
      ]
     },
     "metadata": {},
     "output_type": "display_data"
    },
    {
     "ename": "TypeError",
     "evalue": "unsupported operand type(s) for >>: 'TitanicPreprocessing' and 'tuple'",
     "output_type": "error",
     "traceback": [
      "\u001b[31m---------------------------------------------------------------------------\u001b[39m",
      "\u001b[31mTypeError\u001b[39m                                 Traceback (most recent call last)",
      "\u001b[36mCell\u001b[39m\u001b[36m \u001b[39m\u001b[32mIn[51]\u001b[39m\u001b[32m, line 1\u001b[39m\n\u001b[32m----> \u001b[39m\u001b[32m1\u001b[39m \u001b[43mtitanic_dag\u001b[49m\u001b[43m(\u001b[49m\u001b[43m)\u001b[49m\n",
      "\u001b[36mFile \u001b[39m\u001b[32m/opt/anaconda3/envs/titanic/lib/python3.11/site-packages/airflow/models/dag.py:4307\u001b[39m, in \u001b[36mdag.<locals>.wrapper.<locals>.factory\u001b[39m\u001b[34m(*args, **kwargs)\u001b[39m\n\u001b[32m   4304\u001b[39m     dag_obj.fileloc = back.f_code.co_filename \u001b[38;5;28;01mif\u001b[39;00m back \u001b[38;5;28;01melse\u001b[39;00m \u001b[33m\"\u001b[39m\u001b[33m\"\u001b[39m\n\u001b[32m   4306\u001b[39m     \u001b[38;5;66;03m# Invoke function to create operators in the DAG scope.\u001b[39;00m\n\u001b[32m-> \u001b[39m\u001b[32m4307\u001b[39m     \u001b[43mf\u001b[49m\u001b[43m(\u001b[49m\u001b[43m*\u001b[49m\u001b[43m*\u001b[49m\u001b[43mf_kwargs\u001b[49m\u001b[43m)\u001b[49m\n\u001b[32m   4309\u001b[39m \u001b[38;5;66;03m# Return dag object such that it's accessible in Globals.\u001b[39;00m\n\u001b[32m   4310\u001b[39m \u001b[38;5;28;01mreturn\u001b[39;00m dag_obj\n",
      "\u001b[36mCell\u001b[39m\u001b[36m \u001b[39m\u001b[32mIn[50]\u001b[39m\u001b[32m, line 36\u001b[39m, in \u001b[36mtitanic_dag\u001b[39m\u001b[34m()\u001b[39m\n\u001b[32m     32\u001b[39m             \u001b[38;5;28mprint\u001b[39m(\u001b[33mf\u001b[39m\u001b[33m\"\u001b[39m\u001b[38;5;132;01m{\u001b[39;00mmodel_name\u001b[38;5;132;01m}\u001b[39;00m\u001b[33m: \u001b[39m\u001b[38;5;132;01m{\u001b[39;00meva\u001b[38;5;132;01m}\u001b[39;00m\u001b[33m\"\u001b[39m)\n\u001b[32m     34\u001b[39m logging = log_mflow(model_dict, evaluate_dict)\n\u001b[32m     35\u001b[39m (\n\u001b[32m---> \u001b[39m\u001b[32m36\u001b[39m     \u001b[43mpreprocess\u001b[49m\n\u001b[32m     37\u001b[39m \u001b[43m    \u001b[49m\u001b[43m>>\u001b[49m\u001b[43m \u001b[49m\u001b[43mdatasets\u001b[49m\n\u001b[32m     38\u001b[39m     >> model_dict\n\u001b[32m     39\u001b[39m     >> evaluate_dict\n\u001b[32m     40\u001b[39m     >> logging\n\u001b[32m     41\u001b[39m )\n",
      "\u001b[31mTypeError\u001b[39m: unsupported operand type(s) for >>: 'TitanicPreprocessing' and 'tuple'"
     ]
    }
   ],
   "source": [
    "titanic_dag()"
   ]
  },
  {
   "cell_type": "code",
   "execution_count": 22,
   "metadata": {},
   "outputs": [
    {
     "name": "stderr",
     "output_type": "stream",
     "text": [
      "/Users/manamioyama/Desktop/workspace/GA/ml_playground/ml_playground_manami/d_shripad/src/main/python/titanic_preprocessing.py:74: FutureWarning: A value is trying to be set on a copy of a DataFrame or Series through chained assignment using an inplace method.\n",
      "The behavior will change in pandas 3.0. This inplace method will never work because the intermediate object on which we are setting values always behaves as a copy.\n",
      "\n",
      "For example, when doing 'df[col].method(value, inplace=True)', try using 'df.method({col: value}, inplace=True)' or df[col] = df[col].method(value) instead, to perform the operation inplace on the original object.\n",
      "\n",
      "\n",
      "  train[\"Age\"].fillna(\n",
      "/Users/manamioyama/Desktop/workspace/GA/ml_playground/ml_playground_manami/d_shripad/src/main/python/titanic_preprocessing.py:77: FutureWarning: A value is trying to be set on a copy of a DataFrame or Series through chained assignment using an inplace method.\n",
      "The behavior will change in pandas 3.0. This inplace method will never work because the intermediate object on which we are setting values always behaves as a copy.\n",
      "\n",
      "For example, when doing 'df[col].method(value, inplace=True)', try using 'df.method({col: value}, inplace=True)' or df[col] = df[col].method(value) instead, to perform the operation inplace on the original object.\n",
      "\n",
      "\n",
      "  test[\"Age\"].fillna(\n",
      "/Users/manamioyama/Desktop/workspace/GA/ml_playground/ml_playground_manami/d_shripad/src/main/python/titanic_preprocessing.py:98: FutureWarning: A value is trying to be set on a copy of a DataFrame or Series through chained assignment using an inplace method.\n",
      "The behavior will change in pandas 3.0. This inplace method will never work because the intermediate object on which we are setting values always behaves as a copy.\n",
      "\n",
      "For example, when doing 'df[col].method(value, inplace=True)', try using 'df.method({col: value}, inplace=True)' or df[col] = df[col].method(value) instead, to perform the operation inplace on the original object.\n",
      "\n",
      "\n",
      "  train[\"Fare\"].fillna(\n",
      "/Users/manamioyama/Desktop/workspace/GA/ml_playground/ml_playground_manami/d_shripad/src/main/python/titanic_preprocessing.py:101: FutureWarning: A value is trying to be set on a copy of a DataFrame or Series through chained assignment using an inplace method.\n",
      "The behavior will change in pandas 3.0. This inplace method will never work because the intermediate object on which we are setting values always behaves as a copy.\n",
      "\n",
      "For example, when doing 'df[col].method(value, inplace=True)', try using 'df.method({col: value}, inplace=True)' or df[col] = df[col].method(value) instead, to perform the operation inplace on the original object.\n",
      "\n",
      "\n",
      "  test[\"Fare\"].fillna(\n",
      "/Users/manamioyama/Desktop/workspace/GA/ml_playground/ml_playground_manami/d_shripad/src/main/python/titanic_preprocessing.py:127: FutureWarning: A value is trying to be set on a copy of a DataFrame or Series through chained assignment using an inplace method.\n",
      "The behavior will change in pandas 3.0. This inplace method will never work because the intermediate object on which we are setting values always behaves as a copy.\n",
      "\n",
      "For example, when doing 'df[col].method(value, inplace=True)', try using 'df.method({col: value}, inplace=True)' or df[col] = df[col].method(value) instead, to perform the operation inplace on the original object.\n",
      "\n",
      "\n",
      "  train[\"Cabin\"].fillna(\n",
      "/Users/manamioyama/Desktop/workspace/GA/ml_playground/ml_playground_manami/d_shripad/src/main/python/titanic_preprocessing.py:130: FutureWarning: A value is trying to be set on a copy of a DataFrame or Series through chained assignment using an inplace method.\n",
      "The behavior will change in pandas 3.0. This inplace method will never work because the intermediate object on which we are setting values always behaves as a copy.\n",
      "\n",
      "For example, when doing 'df[col].method(value, inplace=True)', try using 'df.method({col: value}, inplace=True)' or df[col] = df[col].method(value) instead, to perform the operation inplace on the original object.\n",
      "\n",
      "\n",
      "  test[\"Cabin\"].fillna(\n"
     ]
    }
   ],
   "source": [
    "preprocess = TitanicPreprocessing(train_data_path=train_path, test_data_path=test_path)\n",
    "train_df, test_df = preprocess.preprocess_data()"
   ]
  },
  {
   "cell_type": "code",
   "execution_count": 34,
   "metadata": {},
   "outputs": [],
   "source": [
    "model_dict = TitanicTraining().train_model(train_df)\n",
    "evaluate_dict = TitanicEvaluation('src/data/gender_submission.csv').evaluate_model(model_dict, test_df, )"
   ]
  },
  {
   "cell_type": "code",
   "execution_count": null,
   "metadata": {},
   "outputs": [
    {
     "data": {
      "text/plain": [
       "{'knn': 0.8827751196172249,\n",
       " 'decision_tree': 0.8133971291866029,\n",
       " 'random_forest': 0.8277511961722488,\n",
       " 'gaussian': 0.8421052631578947,\n",
       " 'svc': 0.9354066985645934,\n",
       " 'extra_tree': 0.7990430622009569,\n",
       " 'extra_trees': 0.8301435406698564,\n",
       " 'bagging': 0.8301435406698564,\n",
       " 'ada_boost': 0.9354066985645934,\n",
       " 'gradient_boosting': 0.8827751196172249}"
      ]
     },
     "execution_count": 35,
     "metadata": {},
     "output_type": "execute_result"
    }
   ],
   "source": [
    "evaluate_dict"
   ]
  },
  {
   "cell_type": "code",
   "execution_count": 37,
   "metadata": {},
   "outputs": [
    {
     "name": "stderr",
     "output_type": "stream",
     "text": [
      "2025/03/23 09:04:28 INFO mlflow.tracking.fluent: Experiment with name 'test' does not exist. Creating a new experiment.\n"
     ]
    },
    {
     "name": "stdout",
     "output_type": "stream",
     "text": [
      "knn: 0.8827751196172249\n",
      "🏃 View run glamorous-sloth-667 at: http://127.0.0.1:5000/#/experiments/225442148965954792/runs/b01610e76cfe4c66855c8d6826723c92\n",
      "🧪 View experiment at: http://127.0.0.1:5000/#/experiments/225442148965954792\n",
      "decision_tree: 0.8133971291866029\n",
      "🏃 View run trusting-worm-943 at: http://127.0.0.1:5000/#/experiments/225442148965954792/runs/1a48670fdd7c4cabab4a99a93ebae271\n",
      "🧪 View experiment at: http://127.0.0.1:5000/#/experiments/225442148965954792\n",
      "random_forest: 0.8277511961722488\n",
      "🏃 View run polite-gull-424 at: http://127.0.0.1:5000/#/experiments/225442148965954792/runs/16a1095f9c84455489fb4a62c71c2b53\n",
      "🧪 View experiment at: http://127.0.0.1:5000/#/experiments/225442148965954792\n",
      "gaussian: 0.8421052631578947\n",
      "🏃 View run capricious-sow-903 at: http://127.0.0.1:5000/#/experiments/225442148965954792/runs/553f36276119436588bff07c8f2f71ff\n",
      "🧪 View experiment at: http://127.0.0.1:5000/#/experiments/225442148965954792\n",
      "svc: 0.9354066985645934\n",
      "🏃 View run charming-midge-518 at: http://127.0.0.1:5000/#/experiments/225442148965954792/runs/b3b411808b9d491abc15611e44970406\n",
      "🧪 View experiment at: http://127.0.0.1:5000/#/experiments/225442148965954792\n",
      "extra_tree: 0.7990430622009569\n",
      "🏃 View run debonair-mule-128 at: http://127.0.0.1:5000/#/experiments/225442148965954792/runs/26bb91ba64ee4b7688c9b178bb5d1689\n",
      "🧪 View experiment at: http://127.0.0.1:5000/#/experiments/225442148965954792\n",
      "extra_trees: 0.8301435406698564\n",
      "🏃 View run debonair-yak-180 at: http://127.0.0.1:5000/#/experiments/225442148965954792/runs/ee07ec08826d45f6bc9837eb292b5361\n",
      "🧪 View experiment at: http://127.0.0.1:5000/#/experiments/225442148965954792\n",
      "bagging: 0.8301435406698564\n",
      "🏃 View run wistful-kite-708 at: http://127.0.0.1:5000/#/experiments/225442148965954792/runs/cf0468e012134612beb94a290cd7f5b2\n",
      "🧪 View experiment at: http://127.0.0.1:5000/#/experiments/225442148965954792\n",
      "ada_boost: 0.9354066985645934\n",
      "🏃 View run placid-crab-984 at: http://127.0.0.1:5000/#/experiments/225442148965954792/runs/5c2b8bf9019746668b490a76f6d1de14\n",
      "🧪 View experiment at: http://127.0.0.1:5000/#/experiments/225442148965954792\n",
      "gradient_boosting: 0.8827751196172249\n",
      "🏃 View run invincible-koi-605 at: http://127.0.0.1:5000/#/experiments/225442148965954792/runs/f1b2a8baddf9481e80a9c6c44444c95a\n",
      "🧪 View experiment at: http://127.0.0.1:5000/#/experiments/225442148965954792\n"
     ]
    }
   ],
   "source": [
    "mlflow.set_experiment(\"test\")\n",
    "for model_name, eva in evaluate_dict.items():\n",
    "    with mlflow.start_run():\n",
    "        # mlflow.log_model(\"model_name\", model_name)\n",
    "        mlflow.log_metric(\"accuracy\", eva)\n",
    "        print(f\"{model_name}: {eva}\")"
   ]
  },
  {
   "cell_type": "code",
   "execution_count": null,
   "metadata": {},
   "outputs": [],
   "source": []
  },
  {
   "cell_type": "code",
   "execution_count": null,
   "metadata": {},
   "outputs": [],
   "source": []
  },
  {
   "cell_type": "code",
   "execution_count": null,
   "metadata": {},
   "outputs": [],
   "source": []
  },
  {
   "cell_type": "code",
   "execution_count": null,
   "metadata": {},
   "outputs": [],
   "source": []
  },
  {
   "cell_type": "code",
   "execution_count": null,
   "metadata": {},
   "outputs": [],
   "source": []
  },
  {
   "cell_type": "code",
   "execution_count": null,
   "metadata": {},
   "outputs": [],
   "source": []
  },
  {
   "cell_type": "code",
   "execution_count": null,
   "metadata": {},
   "outputs": [],
   "source": []
  },
  {
   "cell_type": "code",
   "execution_count": null,
   "metadata": {},
   "outputs": [],
   "source": []
  },
  {
   "cell_type": "code",
   "execution_count": null,
   "metadata": {},
   "outputs": [],
   "source": []
  },
  {
   "cell_type": "code",
   "execution_count": null,
   "metadata": {},
   "outputs": [],
   "source": []
  },
  {
   "cell_type": "code",
   "execution_count": null,
   "metadata": {},
   "outputs": [],
   "source": []
  },
  {
   "cell_type": "code",
   "execution_count": null,
   "metadata": {},
   "outputs": [],
   "source": []
  },
  {
   "cell_type": "code",
   "execution_count": null,
   "metadata": {},
   "outputs": [],
   "source": []
  },
  {
   "cell_type": "code",
   "execution_count": null,
   "metadata": {},
   "outputs": [],
   "source": []
  }
 ],
 "metadata": {
  "kernelspec": {
   "display_name": "titanic",
   "language": "python",
   "name": "python3"
  },
  "language_info": {
   "codemirror_mode": {
    "name": "ipython",
    "version": 3
   },
   "file_extension": ".py",
   "mimetype": "text/x-python",
   "name": "python",
   "nbconvert_exporter": "python",
   "pygments_lexer": "ipython3",
   "version": "3.11.11"
  }
 },
 "nbformat": 4,
 "nbformat_minor": 2
}
